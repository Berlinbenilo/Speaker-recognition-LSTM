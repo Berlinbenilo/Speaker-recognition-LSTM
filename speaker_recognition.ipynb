{
 "cells": [
  {
   "cell_type": "markdown",
   "metadata": {},
   "source": [
    "### Import Packages"
   ]
  },
  {
   "cell_type": "code",
   "execution_count": 4,
   "metadata": {},
   "outputs": [],
   "source": [
    "import glob\n",
    "import numpy as np\n",
    "import random\n",
    "import librosa\n",
    "from sklearn.model_selection import train_test_split\n",
    "from sklearn.preprocessing import  LabelBinarizer\n",
    "import keras\n",
    "from keras.layers import LSTM,Dense,Dropout,Flatten\n",
    "from keras.optimizers import Adam\n",
    "from keras.models import Sequential\n",
    "from keras.callbacks import EarlyStopping, ModelCheckpoint\n",
    "import tensorflow as tf\n",
    "import matplotlib.pyplot as plt"
   ]
  },
  {
   "cell_type": "markdown",
   "metadata": {},
   "source": [
    "### Set Dataset path "
   ]
  },
  {
   "cell_type": "code",
   "execution_count": 50,
   "metadata": {},
   "outputs": [],
   "source": [
    "# set dataset path\n",
    "SEED = 163\n",
    "datapath = \"C:/Users/BERLIN/Desktop/audio speaker recognition/Jakobovski-free-spoken-digit-dataset-e9e1155/recordings/\""
   ]
  },
  {
   "cell_type": "code",
   "execution_count": 51,
   "metadata": {},
   "outputs": [],
   "source": [
    "files = glob.glob(datapath + \"*.wav\")"
   ]
  },
  {
   "cell_type": "code",
   "execution_count": 52,
   "metadata": {},
   "outputs": [
    {
     "data": {
      "text/plain": [
       "['C:/Users/BERLIN/Desktop/audio speaker recognition/Jakobovski-free-spoken-digit-dataset-e9e1155/recordings\\\\0_jackson_0.wav',\n",
       " 'C:/Users/BERLIN/Desktop/audio speaker recognition/Jakobovski-free-spoken-digit-dataset-e9e1155/recordings\\\\0_jackson_1.wav',\n",
       " 'C:/Users/BERLIN/Desktop/audio speaker recognition/Jakobovski-free-spoken-digit-dataset-e9e1155/recordings\\\\0_jackson_10.wav',\n",
       " 'C:/Users/BERLIN/Desktop/audio speaker recognition/Jakobovski-free-spoken-digit-dataset-e9e1155/recordings\\\\0_jackson_11.wav',\n",
       " 'C:/Users/BERLIN/Desktop/audio speaker recognition/Jakobovski-free-spoken-digit-dataset-e9e1155/recordings\\\\0_jackson_12.wav']"
      ]
     },
     "execution_count": 52,
     "metadata": {},
     "output_type": "execute_result"
    }
   ],
   "source": [
    "files[:5]"
   ]
  },
  {
   "cell_type": "markdown",
   "metadata": {},
   "source": [
    "### Train test split"
   ]
  },
  {
   "cell_type": "code",
   "execution_count": 53,
   "metadata": {},
   "outputs": [
    {
     "name": "stdout",
     "output_type": "stream",
     "text": [
      "Training sample: 1200\n",
      "Validation sample: 300\n"
     ]
    }
   ],
   "source": [
    "X_train, X_val = train_test_split(files, test_size=0.2,random_state=SEED)\n",
    "\n",
    "print(\"Training sample: {}\".format(len(X_train)))\n",
    "print(\"Validation sample: {}\".format(len(X_val)))"
   ]
  },
  {
   "cell_type": "markdown",
   "metadata": {},
   "source": [
    "### Data preprocessing"
   ]
  },
  {
   "cell_type": "code",
   "execution_count": 54,
   "metadata": {},
   "outputs": [
    {
     "name": "stdout",
     "output_type": "stream",
     "text": [
      "['theo', 'jackson', 'nicolas']\n"
     ]
    }
   ],
   "source": [
    "labels = []\n",
    "for i in range(len(X_train)):\n",
    "  label = X_train[i].split('/')[-1].split('_')[1]\n",
    "  if label not in labels:\n",
    "    labels.append(label)\n",
    "print(labels)"
   ]
  },
  {
   "cell_type": "code",
   "execution_count": 55,
   "metadata": {},
   "outputs": [],
   "source": [
    "label_binarizer = LabelBinarizer()\n",
    "label_binarizer.fit(labels)\n",
    "\n",
    "def one_hot_encode(x):\n",
    "  return label_binarizer.transform(x)"
   ]
  },
  {
   "cell_type": "code",
   "execution_count": 56,
   "metadata": {},
   "outputs": [],
   "source": [
    "y_test = np.array(one_hot_encode(['theo','jackson','nicolas']))"
   ]
  },
  {
   "cell_type": "code",
   "execution_count": 57,
   "metadata": {},
   "outputs": [
    {
     "data": {
      "text/plain": [
       "array([[0, 0, 1],\n",
       "       [1, 0, 0],\n",
       "       [0, 1, 0]])"
      ]
     },
     "execution_count": 57,
     "metadata": {},
     "output_type": "execute_result"
    }
   ],
   "source": [
    "y_test"
   ]
  },
  {
   "cell_type": "code",
   "execution_count": 9,
   "metadata": {},
   "outputs": [],
   "source": [
    "n_features = 20\n",
    "max_length = 1000\n",
    "n_classes = len(labels)"
   ]
  },
  {
   "cell_type": "markdown",
   "metadata": {},
   "source": [
    "### Train data"
   ]
  },
  {
   "cell_type": "code",
   "execution_count": 10,
   "metadata": {},
   "outputs": [],
   "source": [
    "random.shuffle(X_train)\n",
    "X, y = [], []\n",
    "for wav in X_train:\n",
    "  wave, sr = librosa.load(wav, mono=True)\n",
    "  label = wav.split('/')[-1].split(\"_\")[1]\n",
    "  y.append(label)\n",
    "  mfcc = librosa.feature.mfcc(wave,sr)\n",
    "  mfcc = np.pad(mfcc, ((0,0), (0, max_length-len(mfcc[0]))), mode='constant', constant_values=0) \n",
    "  X.append(np.array(mfcc))\n",
    "\n",
    "X_t = np.array(X)\n",
    "y_t = np.array(one_hot_encode(y))"
   ]
  },
  {
   "cell_type": "markdown",
   "metadata": {},
   "source": [
    "### Test data"
   ]
  },
  {
   "cell_type": "code",
   "execution_count": 11,
   "metadata": {},
   "outputs": [],
   "source": [
    "random.shuffle(X_val)\n",
    "X, y = [], []\n",
    "for wav in X_val:\n",
    "  wave, sr = librosa.load(wav, mono=True)\n",
    "  label = wav.split('/')[-1].split(\"_\")[1]\n",
    "  y.append(label)\n",
    "  mfcc = librosa.feature.mfcc(wave,sr)\n",
    "  mfcc = np.pad(mfcc, ((0,0), (0, max_length-len(mfcc[0]))), mode='constant', constant_values=0) \n",
    "  X.append(np.array(mfcc))\n",
    "\n",
    "X_v = np.array(X)\n",
    "y_v = np.array(one_hot_encode(y))"
   ]
  },
  {
   "cell_type": "code",
   "execution_count": 12,
   "metadata": {},
   "outputs": [
    {
     "data": {
      "text/plain": [
       "(1200, 20, 1000)"
      ]
     },
     "execution_count": 12,
     "metadata": {},
     "output_type": "execute_result"
    }
   ],
   "source": [
    "X_t.shape"
   ]
  },
  {
   "cell_type": "code",
   "execution_count": 13,
   "metadata": {},
   "outputs": [
    {
     "data": {
      "text/plain": [
       "(300, 20, 1000)"
      ]
     },
     "execution_count": 13,
     "metadata": {},
     "output_type": "execute_result"
    }
   ],
   "source": [
    "X_v.shape"
   ]
  },
  {
   "cell_type": "markdown",
   "metadata": {},
   "source": [
    "### Model creation"
   ]
  },
  {
   "cell_type": "code",
   "execution_count": 14,
   "metadata": {},
   "outputs": [],
   "source": [
    "input_shape = (n_features, max_length)\n",
    "model = keras.models.Sequential()\n",
    "model.add(LSTM(256, return_sequences=True, input_shape=input_shape,\n",
    "dropout=0.5))\n",
    "model.add(Flatten())\n",
    "model.add(Dense(128, activation='relu'))\n",
    "model.add(Dropout(0.5))\n",
    "model.add(Dense(n_classes, activation='softmax'))"
   ]
  },
  {
   "cell_type": "code",
   "execution_count": 15,
   "metadata": {},
   "outputs": [],
   "source": [
    "model.compile(optimizer=Adam(learning_rate=0.001),\n",
    "              loss=keras.losses.CategoricalCrossentropy(from_logits=True),\n",
    "              metrics=['accuracy'])"
   ]
  },
  {
   "cell_type": "code",
   "execution_count": 16,
   "metadata": {},
   "outputs": [],
   "source": [
    "callbacks = [ModelCheckpoint('SPEAKER_best_model_.hdf5', save_best_only=True),\n",
    "            EarlyStopping(monitor='val_accuracy', patience=2)]"
   ]
  },
  {
   "cell_type": "markdown",
   "metadata": {},
   "source": [
    "### Fitting"
   ]
  },
  {
   "cell_type": "code",
   "execution_count": 17,
   "metadata": {},
   "outputs": [
    {
     "name": "stdout",
     "output_type": "stream",
     "text": [
      "Epoch 1/10\n",
      "10/10 [==============================] - 11s 659ms/step - loss: 0.9792 - accuracy: 0.4975 - val_loss: 0.5187 - val_accuracy: 0.7933\n",
      "Epoch 2/10\n",
      "10/10 [==============================] - 4s 395ms/step - loss: 0.4726 - accuracy: 0.7938 - val_loss: 0.3677 - val_accuracy: 0.8867\n",
      "Epoch 3/10\n",
      "10/10 [==============================] - 4s 389ms/step - loss: 0.3532 - accuracy: 0.8659 - val_loss: 0.3106 - val_accuracy: 0.9067\n",
      "Epoch 4/10\n",
      "10/10 [==============================] - 4s 387ms/step - loss: 0.2538 - accuracy: 0.8968 - val_loss: 0.2666 - val_accuracy: 0.9233\n",
      "Epoch 5/10\n",
      "10/10 [==============================] - 4s 367ms/step - loss: 0.1881 - accuracy: 0.9344 - val_loss: 0.2488 - val_accuracy: 0.9167\n",
      "Epoch 6/10\n",
      "10/10 [==============================] - 3s 337ms/step - loss: 0.1771 - accuracy: 0.9244 - val_loss: 0.2549 - val_accuracy: 0.9033\n"
     ]
    }
   ],
   "source": [
    "history = model.fit(\n",
    "    X_t, y_t,\n",
    "    steps_per_epoch=10,\n",
    "    epochs=10,\n",
    "    validation_data=(X_v,y_v),\n",
    "    validation_steps=5,\n",
    "    validation_freq=1,\n",
    "    verbose=1,\n",
    "    callbacks = callbacks\n",
    ")"
   ]
  },
  {
   "cell_type": "code",
   "execution_count": 18,
   "metadata": {},
   "outputs": [],
   "source": [
    "def plot_history(history):\n",
    "    fig, axs = plt.subplots(2)\n",
    "    # create accuracy subplot\n",
    "    axs[0].plot(history.history[\"accuracy\"], label=\"train accuracy\")\n",
    "    axs[0].plot(history.history[\"val_accuracy\"], label=\"test accuracy\")\n",
    "    axs[0].set_ylabel(\"Accuracy\")\n",
    "    axs[0].legend(loc=\"lower right\")\n",
    "    axs[0].set_title(\"Accuracy eval\")\n",
    "\n",
    "    # create error sublpot\n",
    "    axs[1].plot(history.history[\"loss\"], label=\"train error\")\n",
    "    axs[1].plot(history.history[\"val_loss\"], label=\"test error\")\n",
    "    axs[1].set_ylabel(\"Error\")\n",
    "    axs[1].set_xlabel(\"Epoch\")\n",
    "    axs[1].legend(loc=\"upper right\")\n",
    "    axs[1].set_title(\"Error eval\")\n",
    "\n",
    "    plt.show()"
   ]
  },
  {
   "cell_type": "code",
   "execution_count": 19,
   "metadata": {},
   "outputs": [
    {
     "data": {
      "image/png": "[encoded data removed]",
      "text/plain": [
       "<Figure size 432x288 with 2 Axes>"
      ]
     },
     "metadata": {
      "needs_background": "light"
     },
     "output_type": "display_data"
    }
   ],
   "source": [
    "plot_history(history)"
   ]
  },
  {
   "cell_type": "code",
   "execution_count": 20,
   "metadata": {},
   "outputs": [],
   "source": [
    "X, y = [], []\n",
    "wav = X_train[501]\n",
    "wave, sr = librosa.load(wav, mono=True)\n",
    "label = wav.split('/')[-1].split(\"_\")[1]\n",
    "y.append(label)\n",
    "mfcc = librosa.feature.mfcc(wave,sr)\n",
    "mfcc = np.pad(mfcc, ((0,0), (0, max_length-len(mfcc[0]))), mode='constant', constant_values=0) \n",
    "X.append(np.array(mfcc))  \n",
    "\n",
    "X_test = np.array(X)\n",
    "y_test = np.array(one_hot_encode(y))"
   ]
  },
  {
   "cell_type": "code",
   "execution_count": 21,
   "metadata": {},
   "outputs": [
    {
     "name": "stdout",
     "output_type": "stream",
     "text": [
      "[[4.2924879e-05 5.9245657e-03 9.9403256e-01]] [[0 0 1]] theo ['theo']\n"
     ]
    }
   ],
   "source": [
    "y_pred = model.predict(X_test)\n",
    "print(y_pred,y_test,label,y)"
   ]
  },
  {
   "cell_type": "code",
   "execution_count": 22,
   "metadata": {},
   "outputs": [],
   "source": [
    "model.save('speaker_model.h5')"
   ]
  },
  {
   "cell_type": "markdown",
   "metadata": {},
   "source": [
    "# Model deployment"
   ]
  },
  {
   "cell_type": "code",
   "execution_count": 63,
   "metadata": {},
   "outputs": [],
   "source": [
    "from keras.models import load_model\n",
    "model = load_model('speaker_model.h5')\n",
    "X, y = [], []\n",
    "wav = r\"C:\\Users\\BERLIN\\Desktop\\audio speaker recognition\\Jakobovski-free-spoken-digit-dataset-e9e1155\\recordings\\1_jackson_3.wav\"\n",
    "wave, sr = librosa.load(wav, mono=True)\n",
    "label = wav.split('/')[-1].split(\"_\")[0]\n",
    "y.append(label)\n",
    "mfcc = librosa.feature.mfcc(wave,sr)\n",
    "mfcc = np.pad(mfcc, ((0,0), (0, max_length-len(mfcc[0]))), mode='constant', constant_values=0) \n",
    "X.append(np.array(mfcc))  \n",
    "\n",
    "X_test = np.array(X)\n",
    "y_test = np.array(one_hot_encode(y))"
   ]
  },
  {
   "cell_type": "code",
   "execution_count": 64,
   "metadata": {},
   "outputs": [
    {
     "name": "stdout",
     "output_type": "stream",
     "text": [
      "[[9.9990475e-01 4.5428646e-07 9.4784613e-05]]\n",
      "jackson\n"
     ]
    }
   ],
   "source": [
    "y_pred = model.predict(X_test)\n",
    "print(y_pred)\n",
    "if np.argmax(y_pred) == 0:\n",
    "  print('jackson')\n",
    "elif np.argmax(y_pred) == 1:\n",
    "  print('nicolas')\n",
    "elif np.argmax(y_pred) == 2:\n",
    "  print('theo')"
   ]
  },
  {
   "cell_type": "code",
   "execution_count": null,
   "metadata": {},
   "outputs": [],
   "source": []
  }
 ],
 "metadata": {
  "kernelspec": {
   "display_name": "Python 3",
   "language": "python",
   "name": "python3"
  },
  "language_info": {
   "codemirror_mode": {
    "name": "ipython",
    "version": 3
   },
   "file_extension": ".py",
   "mimetype": "text/x-python",
   "name": "python",
   "nbconvert_exporter": "python",
   "pygments_lexer": "ipython3",
   "version": "3.8.5"
  }
 },
 "nbformat": 4,
 "nbformat_minor": 4
}
